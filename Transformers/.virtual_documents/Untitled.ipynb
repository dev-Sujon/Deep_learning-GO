# Step 2: Prepare Data
import pandas as pd
from sklearn.model_selection import train_test_split

# Load data
data = pd.read_csv('data/Emotion_classify_Data.csv')



data


train_texts, val_texts, train_labels, val_labels = train_test_split(data['Comment'], data['Emotion'], test_size=0.2, random_state=42)



train_texts.shape, val_texts.shape,train_labels.shape, val_labels.shape


import string
import nltk
from nltk.corpus import stopwords
from nltk.tokenize import word_tokenize
nltk.download('punkt')
nltk.download('stopwords')

def preprocess_text(text_series):
    """
    Preprocesses a Series of text data.
    
    Args:
    text_series (pandas.Series): Series containing text data.
    
    Returns:
    pandas.Series: Preprocessed text data.
    """
    preprocessed_texts = []
    for text in text_series:
        # Lowercase the text
        text = text.lower()

        # Remove punctuation
        text = text.translate(str.maketrans('', '', string.punctuation))

        # Tokenize the text
        tokens = word_tokenize(text)

        # Remove stopwords
        stop_words = set(stopwords.words('english'))
        tokens = [word for word in tokens if word not in stop_words]

        # Join tokens back into a single string
        preprocessed_text = ' '.join(tokens)
        
        preprocessed_texts.append(preprocessed_text)

    return preprocessed_texts



# Example usage
preprocessed_texts = preprocess_text(data['Comment'])
print(preprocessed_texts[:10])



# from transformers import AutoTokenizer, DistilRobertaForSequenceClassification
from transformers import AutoTokenizer, DistilRobertaForSequenceClassification





# Load tokenizer and model
tokenizer = DistilRobertaTokenizer.from_pretrained('j-hartmann/emotion-english-distilroberta-base')
model = DistilRobertaForSequenceClassification.from_pretrained('j-hartmann/emotion-english-distilroberta-base', num_labels=4)

# Define dataset class
class EmotionDataset(Dataset):
    def __init__(self, texts, labels, tokenizer, max_len):
        self.texts = texts
        self.labels = labels
        self.tokenizer = tokenizer
        self.max_len = max_len
    
    def __len__(self):
        return len(self.texts)
    
    def __getitem__(self, idx):
        text = str(self.texts[idx])
        label = self.labels[idx]

        encoding = self.tokenizer.encode_plus(
            text,
            add_special_tokens=True,
            max_length=self.max_len,
            return_token_type_ids=False,
            padding='max_length',
            truncation=True,
            return_attention_mask=True,
            return_tensors='pt',
        )

        return {
            'text': text,
            'input_ids': encoding['input_ids'].flatten(),
            'attention_mask': encoding['attention_mask'].flatten(),
            'labels': torch.tensor(label, dtype=torch.long)
        }

# Create datasets and dataloaders
MAX_LEN = 128
BATCH_SIZE = 16

train_dataset = EmotionDataset(train_texts, train_labels, tokenizer, MAX_LEN)
val_dataset = EmotionDataset(val_texts, val_labels, tokenizer, MAX_LEN)

train_loader = DataLoader(train_dataset, batch_size=BATCH_SIZE, shuffle=True)
val_loader = DataLoader(val_dataset, batch_size=BATCH_SIZE, shuffle=False)

# Fine-tuning parameters
EPOCHS = 3
LEARNING_RATE = 2e-5

# Set device
device = torch.device('cuda') if torch.cuda.is_available() else torch.device('cpu')

# Prepare optimizer and loss function
optimizer = AdamW(model.parameters(), lr=LEARNING_RATE)
loss_fn = torch.nn.CrossEntropyLoss()

# Fine-tuning loop
model.to(device)
model.train()

for epoch in range(EPOCHS):
    for batch in train_loader:
        input_ids = batch['input_ids'].to(device)
        attention_mask = batch['attention_mask'].to(device)
        labels = batch['labels'].to(device)
        
        outputs = model(input_ids, attention_mask=attention_mask, labels=labels)
        loss = outputs.loss
        
        optimizer.zero_grad()
        loss.backward()
        optimizer.step()

# Save fine-tuned model
model.save_pretrained('fine_tuned_model')

# Step 4: Evaluation
val_predictions = []
val_targets = []

model.eval()
with torch.no_grad():
    for batch in val_loader:
        input_ids = batch['input_ids'].to(device)
        attention_mask = batch['attention_mask'].to(device)
        labels = batch['labels'].to(device)

        outputs = model(input_ids, attention_mask=attention_mask)
        logits = outputs.logits
        _, preds = torch.max(logits, dim=1)

        val_predictions.extend(preds.cpu().tolist())
        val_targets.extend(labels.cpu().tolist())

# Calculate metrics
val_accuracy = accuracy_score(val_targets, val_predictions)
val_report = classification_report(val_targets, val_predictions)

print(f'Validation Accuracy: {val_accuracy}')
print(f'Classification Report:\n{val_report}')




