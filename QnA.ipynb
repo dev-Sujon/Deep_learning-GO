{
 "cells": [
  {
   "cell_type": "markdown",
   "id": "3af95b9d-48e4-4731-9b79-ff01b81ea9f5",
   "metadata": {},
   "source": [
    "# Import libraries"
   ]
  },
  {
   "cell_type": "code",
   "execution_count": 1,
   "id": "608854f7-7551-4519-9a1f-8b7b27c73eca",
   "metadata": {
    "tags": []
   },
   "outputs": [
    {
     "name": "stderr",
     "output_type": "stream",
     "text": [
      "2024-05-14 16:35:05.216046: I tensorflow/core/platform/cpu_feature_guard.cc:210] This TensorFlow binary is optimized to use available CPU instructions in performance-critical operations.\n",
      "To enable the following instructions: AVX2 FMA, in other operations, rebuild TensorFlow with the appropriate compiler flags.\n",
      "2024-05-14 16:35:07.044677: W tensorflow/compiler/tf2tensorrt/utils/py_utils.cc:38] TF-TRT Warning: Could not find TensorRT\n"
     ]
    }
   ],
   "source": [
    "import pandas as pd\n",
    "import chromadb\n",
    "import re\n",
    "import json\n",
    "from langchain.embeddings import VertexAIEmbeddings\n",
    "from langchain.vectorstores import Chroma\n",
    "from langchain.schema.vectorstore import VectorStoreRetriever\n",
    "from vertexai.language_models import TextGenerationModel\n",
    "from langchain.llms import VertexAI\n",
    "from langchain.prompts import PromptTemplate\n",
    "from langchain.schema import StrOutputParser"
   ]
  },
  {
   "cell_type": "markdown",
   "id": "e989526b-3135-41d9-bde9-3772741e40b6",
   "metadata": {},
   "source": [
    "# Read files"
   ]
  },
  {
   "cell_type": "code",
   "execution_count": 2,
   "id": "c4fc87b9-bf45-446e-8518-f427368c255d",
   "metadata": {
    "tags": []
   },
   "outputs": [],
   "source": [
    "extracted_df = pd.read_csv('chunked_data.csv')\n",
    "extracted_df = extracted_df.drop(['Unnamed: 0'],axis=1)"
   ]
  },
  {
   "cell_type": "code",
   "execution_count": 3,
   "id": "2d625a77-b710-454a-9370-4f303a822ca0",
   "metadata": {
    "tags": []
   },
   "outputs": [
    {
     "data": {
      "text/html": [
       "<div>\n",
       "<style scoped>\n",
       "    .dataframe tbody tr th:only-of-type {\n",
       "        vertical-align: middle;\n",
       "    }\n",
       "\n",
       "    .dataframe tbody tr th {\n",
       "        vertical-align: top;\n",
       "    }\n",
       "\n",
       "    .dataframe thead th {\n",
       "        text-align: right;\n",
       "    }\n",
       "</style>\n",
       "<table border=\"1\" class=\"dataframe\">\n",
       "  <thead>\n",
       "    <tr style=\"text-align: right;\">\n",
       "      <th></th>\n",
       "      <th>chunks</th>\n",
       "      <th>len</th>\n",
       "      <th>ref_link</th>\n",
       "    </tr>\n",
       "  </thead>\n",
       "  <tbody>\n",
       "    <tr>\n",
       "      <th>0</th>\n",
       "      <td>ai-driven security operations (soc) | fortinet...</td>\n",
       "      <td>499</td>\n",
       "      <td>{'source': 'https://www.fortinet.com/fortiguar...</td>\n",
       "    </tr>\n",
       "  </tbody>\n",
       "</table>\n",
       "</div>"
      ],
      "text/plain": [
       "                                              chunks  len  \\\n",
       "0  ai-driven security operations (soc) | fortinet...  499   \n",
       "\n",
       "                                            ref_link  \n",
       "0  {'source': 'https://www.fortinet.com/fortiguar...  "
      ]
     },
     "execution_count": 3,
     "metadata": {},
     "output_type": "execute_result"
    }
   ],
   "source": [
    "extracted_df.head(1)"
   ]
  },
  {
   "cell_type": "code",
   "execution_count": 4,
   "id": "34edb892-7484-4159-acdf-a8fe491ce33c",
   "metadata": {
    "tags": []
   },
   "outputs": [],
   "source": [
    "# extracted_df.describe([x/10 for x in range(0,10)])"
   ]
  },
  {
   "cell_type": "code",
   "execution_count": 5,
   "id": "bda9ec88-fe65-4fe8-bd83-07131910d894",
   "metadata": {
    "tags": []
   },
   "outputs": [
    {
     "data": {
      "text/plain": [
       "(147083, 147083)"
      ]
     },
     "execution_count": 5,
     "metadata": {},
     "output_type": "execute_result"
    }
   ],
   "source": [
    "docs = extracted_df['chunks']\n",
    "metadatas = extracted_df['ref_link']\n",
    "metadatas_dict=[]\n",
    "for i in  metadatas:\n",
    "    i = i.replace(\"'\", \"\\\"\")\n",
    "    dict_obj = json.loads(i)\n",
    "    metadatas_dict.append(dict_obj)\n",
    "len(docs), len(metadatas)"
   ]
  },
  {
   "cell_type": "code",
   "execution_count": 6,
   "id": "5c444a91-2e87-4c66-afa5-e109eed3ca50",
   "metadata": {
    "tags": []
   },
   "outputs": [],
   "source": [
    "docs = docs[:5000]\n",
    "metadatas_dict = metadatas_dict[:5000]\n",
    "collection_name = \"QnA_5000_char\""
   ]
  },
  {
   "cell_type": "markdown",
   "id": "9c2ce0b2-f25e-453b-bd4c-ba4361a4c003",
   "metadata": {},
   "source": [
    "# Create embeddings"
   ]
  },
  {
   "cell_type": "code",
   "execution_count": 7,
   "id": "1b84d227-c295-4f21-bce9-37cc352f510d",
   "metadata": {
    "tags": []
   },
   "outputs": [
    {
     "name": "stdout",
     "output_type": "stream",
     "text": [
      "DONE\n"
     ]
    }
   ],
   "source": [
    "client = chromadb.PersistentClient(path=\"Chroma\")\n",
    "try:\n",
    "    collection = client.create_collection(name=collection_name)\n",
    "except:\n",
    "    client.delete_collection(name = collection_name)\n",
    "    collection = client.create_collection(name=collection_name)\n",
    "    \n",
    "embeddings = VertexAIEmbeddings()\n",
    "new_vector_store = Chroma.from_texts(texts = list(docs),\n",
    "                            embedding = embeddings,\n",
    "                            metadatas=metadatas_dict,\n",
    "                            collection_name=collection_name,\n",
    "                            ids=[str(x) for x in range(len(docs))],\n",
    "                            persist_directory='Chroma/', client = client)\n",
    "print('DONE')"
   ]
  },
  {
   "cell_type": "code",
   "execution_count": 8,
   "id": "b7a9d4df-9398-4bb6-9997-10b53d26a800",
   "metadata": {
    "tags": []
   },
   "outputs": [],
   "source": [
    "# question = 'Which is the operating system using which Fortinet delivers centralized investigation and remediation?'\n",
    "# response = new_vector_store.search(query = question,search_type = \"similarity\")"
   ]
  },
  {
   "cell_type": "markdown",
   "id": "02156b0d-67d9-46a6-a636-2c0557e12f00",
   "metadata": {},
   "source": [
    "# Verify the collection"
   ]
  },
  {
   "cell_type": "code",
   "execution_count": 9,
   "id": "3983b925-a5be-46e1-b940-89537ba58c55",
   "metadata": {
    "tags": []
   },
   "outputs": [],
   "source": [
    "# client.delete_collection(name = \"QnA_embedding_500_char_chunk\")"
   ]
  },
  {
   "cell_type": "code",
   "execution_count": 10,
   "id": "37305ff8-9072-4cf0-b3b7-d06bbc9e4509",
   "metadata": {
    "tags": []
   },
   "outputs": [
    {
     "name": "stdout",
     "output_type": "stream",
     "text": [
      "5000\n",
      "\n"
     ]
    },
    {
     "data": {
      "text/plain": [
       "[Collection(name=QnA_5000_char), Collection(name=QnA_4000_char)]"
      ]
     },
     "execution_count": 10,
     "metadata": {},
     "output_type": "execute_result"
    }
   ],
   "source": [
    "client = chromadb.PersistentClient(path=\"Chroma\")\n",
    "emb_fn = VertexAIEmbeddings()\n",
    "new_vector_store = Chroma(embedding_function=emb_fn)\n",
    "collection = client.get_collection(name='QnA_5000_char', embedding_function=emb_fn)\n",
    "print(len(collection.get()['ids']))\n",
    "print()\n",
    "client.list_collections()"
   ]
  },
  {
   "cell_type": "code",
   "execution_count": 11,
   "id": "a72e584e-787a-48a9-b8db-d30eea3bddce",
   "metadata": {
    "tags": []
   },
   "outputs": [
    {
     "data": {
      "text/plain": [
       "[Collection(name=QnA_5000_char), Collection(name=QnA_4000_char)]"
      ]
     },
     "execution_count": 11,
     "metadata": {},
     "output_type": "execute_result"
    }
   ],
   "source": [
    "client.list_collections()"
   ]
  },
  {
   "cell_type": "markdown",
   "id": "b3aecdb5-3ca0-429c-a93e-d2f33d948f72",
   "metadata": {},
   "source": [
    "# Get embeddings"
   ]
  },
  {
   "cell_type": "code",
   "execution_count": 13,
   "id": "2b29261c-15e9-47a0-93ec-5839da712f5b",
   "metadata": {
    "tags": []
   },
   "outputs": [],
   "source": [
    "questions = [\"Which is the operating system using which Fortinet delivers centralized investigation?\",\n",
    "\"What are the benfits/Features of Fortinet's Security Operations Solution?\",\n",
    "\"Which is the competitor of Fortinet which provides similar solution as Fortinet's Security Operations Solution?\",\n",
    "\"Which are the products in which FortAI has been integrated?\",\n",
    "\"Talk about FortiAI for FortiSIEM\",\n",
    "\"What is Fortnite\",\n",
    "\"Give FortAI's benefits\",\n",
    "\"What is FortiGuard URL Filtering Service?\",\n",
    "\"What is not a Use case of Fortiguard URL Filtering Service?\",\n",
    "\"Does Fortiguard URL Filtering Service help in blocking malicious downloads?\"]"
   ]
  },
  {
   "cell_type": "code",
   "execution_count": 14,
   "id": "3a77af15-c907-4a01-a18b-1b1e9b6e5e5f",
   "metadata": {
    "tags": []
   },
   "outputs": [],
   "source": [
    "from vertexai.language_models import TextEmbeddingModel\n",
    "def text_embedding(data) -> list:\n",
    "    \"\"\"Text embedding with a Large Language Model.\"\"\"\n",
    "    model = TextEmbeddingModel.from_pretrained(\"textembedding-gecko\")\n",
    "    embeddings = model.get_embeddings(data)\n",
    "    for embedding in embeddings:\n",
    "        vector = embedding.values\n",
    "    return vector\n",
    "\n",
    "def retreive_module(question,number_of_documents):\n",
    "        client = chromadb.PersistentClient(path=\"Chroma\")\n",
    "        emb_fn = VertexAIEmbeddings()\n",
    "        collection = client.get_collection(name=collection_name, embedding_function=emb_fn)\n",
    "        retrieved_docs = collection.query(query_embeddings=text_embedding([question]), n_results=number_of_documents)\n",
    "        return retrieved_docs"
   ]
  },
  {
   "cell_type": "code",
   "execution_count": 19,
   "id": "8be1e446-9fd4-4830-93e8-51d5bb566282",
   "metadata": {
    "tags": []
   },
   "outputs": [
    {
     "data": {
      "text/plain": [
       "[['the common operating system for all fortigate advanced network and security functions spanning on-premises and cloud environments. and because every solution running on the fortigate platform runs on fortios, they are not simply integrated. they are the same product., \"this common codebase enables true convergence across all solutions and form factors (appliance, virtual machine, container, and cloud). and fortinets unique asic acceleration, designed for both physical and virtual devices',\n",
       "  'the fortinet security fabric platform, fortinet supports customers with a platform approach to cybersecurity via the fortinet security fabric, which converges networking and security through one operating system (fortios), one unified agent (forticlient), one management console (fortimanager), and one data lake (fortianalyzer) to integrate and protect the entire digital attack surface. it’s focused on three major enterprise pillars: secure networking, unified sase',\n",
       "  'network security solutions for enterprise | fortinet , , secure networking:',\n",
       "  'hybrid-cloud, it, and ot infrastructures to identify malicious network activity and files using multiple network and ot protocols and numerous unique application control signatures within these protocols., massively accelerate time to detect and disrupt, investigate and remediate with the fortinet security operations solution », fortinet security operations solution uses ai and advanced analytics to monitor activity across users, devices, networks, emails, applications, files',\n",
       "  ', , , and, . subscribe to fortinet on our, or, ., about fortinet:  \"fortinet (nasdaq: ftnt) is a driving force in the evolution of cybersecurity and the convergence of networking and security. our mission is to secure people, devices, and data everywhere, and today we deliver cybersecurity everywhere you need it with the largest integrated portfolio of over 50 enterprise-grade products. well over half a million customers trust fortinets solutions, which are among the most deployed']]"
      ]
     },
     "execution_count": 19,
     "metadata": {},
     "output_type": "execute_result"
    }
   ],
   "source": [
    "docs_content = retreive_module(questions[0],number_of_documents=5)\n",
    "docs_content['documents']"
   ]
  },
  {
   "cell_type": "code",
   "execution_count": 26,
   "id": "af2030b6-91ed-4f31-8e72-145237645017",
   "metadata": {},
   "outputs": [],
   "source": [
    "# Initialize the VertexAI model\n",
    "def generate_response_from_docs(docs_content,question,chat_history = \"\"):\n",
    "    model = VertexAI(model_name=\"text-bison-32k\", max_output_tokens=1024, temperature=0.2)\n",
    "    query_text = \"\"\"\n",
    "You are expert at answering questions regarding  Fortinet.\n",
    "Your role is to give to-the-point and crisp answer to the user question in a polite and professional manner.\n",
    "\n",
    "Use the below context and chat history to answer the question, if the questions is irrelevant , say \"i dont know, I am not aware it\"\n",
    "\"\"\"\n",
    "    prompt = query_text\n",
    "\n",
    "    template = f\"\"\"\n",
    "    Task:\n",
    "    {prompt}\n",
    "\n",
    "    conversation_history:\n",
    "    {chat_history}\n",
    "\n",
    "    Context: \n",
    "    {docs_content}\n",
    "\n",
    "    Question: {question}\n",
    "    Answer:\n",
    "    \"\"\"\n",
    "    prompt_template = PromptTemplate(\n",
    "        input_variables=[\"content\"],\n",
    "        template = template)\n",
    "    print(template\n",
    "    # Prepare the input for the model\n",
    "    input_content = {\"content\": docs_content}\n",
    "    # Use the prompt template to generate a response\n",
    "    response = prompt_template | model | StrOutputParser()\n",
    "    return response.invoke(input_content)\n"
   ]
  },
  {
   "cell_type": "code",
   "execution_count": 25,
   "id": "ab784166-6ec0-40dd-a970-b2b0c4839d7b",
   "metadata": {
    "tags": []
   },
   "outputs": [
    {
     "name": "stdout",
     "output_type": "stream",
     "text": [
      "5\n"
     ]
    },
    {
     "ename": "NameError",
     "evalue": "name 'template' is not defined",
     "output_type": "error",
     "traceback": [
      "\u001b[0;31m---------------------------------------------------------------------------\u001b[0m",
      "\u001b[0;31mNameError\u001b[0m                                 Traceback (most recent call last)",
      "Cell \u001b[0;32mIn[25], line 9\u001b[0m\n\u001b[1;32m      7\u001b[0m documents \u001b[38;5;241m=\u001b[39m docs_content[\u001b[38;5;124m'\u001b[39m\u001b[38;5;124mdocuments\u001b[39m\u001b[38;5;124m'\u001b[39m]\n\u001b[1;32m      8\u001b[0m \u001b[38;5;28mprint\u001b[39m(\u001b[38;5;28mlen\u001b[39m(documents[\u001b[38;5;241m0\u001b[39m]))\n\u001b[0;32m----> 9\u001b[0m response \u001b[38;5;241m=\u001b[39m \u001b[43mgenerate_response_from_docs\u001b[49m\u001b[43m(\u001b[49m\u001b[38;5;124;43m'\u001b[39;49m\u001b[38;5;130;43;01m\\n\u001b[39;49;00m\u001b[38;5;124;43m'\u001b[39;49m\u001b[38;5;241;43m.\u001b[39;49m\u001b[43mjoin\u001b[49m\u001b[43m(\u001b[49m\u001b[43mdocuments\u001b[49m\u001b[43m[\u001b[49m\u001b[38;5;241;43m0\u001b[39;49m\u001b[43m]\u001b[49m\u001b[43m)\u001b[49m\u001b[43m,\u001b[49m\u001b[43mquestion\u001b[49m\u001b[43m)\u001b[49m\n\u001b[1;32m     10\u001b[0m \u001b[38;5;28mprint\u001b[39m(question)\n\u001b[1;32m     11\u001b[0m responses\u001b[38;5;241m.\u001b[39mappend(response)\n",
      "Cell \u001b[0;32mIn[22], line 27\u001b[0m, in \u001b[0;36mgenerate_response_from_docs\u001b[0;34m(docs_content, question, chat_history)\u001b[0m\n\u001b[1;32m     10\u001b[0m     prompt \u001b[38;5;241m=\u001b[39m query_text\n\u001b[1;32m     12\u001b[0m     prompt_template \u001b[38;5;241m=\u001b[39m PromptTemplate(\n\u001b[1;32m     13\u001b[0m         input_variables\u001b[38;5;241m=\u001b[39m[\u001b[38;5;124m\"\u001b[39m\u001b[38;5;124mcontent\u001b[39m\u001b[38;5;124m\"\u001b[39m],\n\u001b[1;32m     14\u001b[0m         template \u001b[38;5;241m=\u001b[39m \u001b[38;5;124mf\u001b[39m\u001b[38;5;124m\"\"\"\u001b[39m\n\u001b[0;32m   (...)\u001b[0m\n\u001b[1;32m     25\u001b[0m \u001b[38;5;124mAnswer:\u001b[39m\n\u001b[1;32m     26\u001b[0m \u001b[38;5;124m\"\"\"\u001b[39m)\n\u001b[0;32m---> 27\u001b[0m     \u001b[38;5;28mprint\u001b[39m(\u001b[43mtemplate\u001b[49m)\n\u001b[1;32m     28\u001b[0m     \u001b[38;5;66;03m# Prepare the input for the model\u001b[39;00m\n\u001b[1;32m     29\u001b[0m     input_content \u001b[38;5;241m=\u001b[39m {\u001b[38;5;124m\"\u001b[39m\u001b[38;5;124mcontent\u001b[39m\u001b[38;5;124m\"\u001b[39m: docs_content}\n",
      "\u001b[0;31mNameError\u001b[0m: name 'template' is not defined"
     ]
    }
   ],
   "source": [
    "responses = []\n",
    "for question in questions:\n",
    "    docs_content = retreive_module(question,number_of_documents=5)\n",
    "    ids = docs_content['ids']\n",
    "    distances = docs_content['distances'][0]\n",
    "    metadatas = docs_content['metadatas']\n",
    "    documents = docs_content['documents']\n",
    "    print(len(documents[0]))\n",
    "    response = generate_response_from_docs('\\n'.join(documents[0]),question)\n",
    "    print(question)\n",
    "    responses.append(response)\n",
    "    print(response)\n",
    "    print(\"=\"*100)\n",
    "    print()\n",
    "    break\n"
   ]
  },
  {
   "cell_type": "code",
   "execution_count": 17,
   "id": "ceec59a5-04a6-4353-97f4-c163fbda24c5",
   "metadata": {
    "tags": []
   },
   "outputs": [],
   "source": [
    "import pandas as pd\n",
    "df = pd.DataFrame()\n",
    "df['questions']=questions\n",
    "df['responses']=responses\n",
    "df.to_csv('predict.csv')"
   ]
  },
  {
   "cell_type": "code",
   "execution_count": 18,
   "id": "667c3dd3-3874-4d17-8406-98d1840471ec",
   "metadata": {
    "tags": []
   },
   "outputs": [
    {
     "data": {
      "text/html": [
       "<div>\n",
       "<style scoped>\n",
       "    .dataframe tbody tr th:only-of-type {\n",
       "        vertical-align: middle;\n",
       "    }\n",
       "\n",
       "    .dataframe tbody tr th {\n",
       "        vertical-align: top;\n",
       "    }\n",
       "\n",
       "    .dataframe thead th {\n",
       "        text-align: right;\n",
       "    }\n",
       "</style>\n",
       "<table border=\"1\" class=\"dataframe\">\n",
       "  <thead>\n",
       "    <tr style=\"text-align: right;\">\n",
       "      <th></th>\n",
       "      <th>questions</th>\n",
       "      <th>responses</th>\n",
       "    </tr>\n",
       "  </thead>\n",
       "  <tbody>\n",
       "    <tr>\n",
       "      <th>0</th>\n",
       "      <td>Which is the operating system using which Fort...</td>\n",
       "      <td>FortiOS is the operating system used by Forti...</td>\n",
       "    </tr>\n",
       "    <tr>\n",
       "      <th>1</th>\n",
       "      <td>What are the benfits/Features of Fortinet's Se...</td>\n",
       "      <td>The benefits of Fortinet's Security Operation...</td>\n",
       "    </tr>\n",
       "    <tr>\n",
       "      <th>2</th>\n",
       "      <td>Which is the competitor of Fortinet which prov...</td>\n",
       "      <td>I do not have information about Fortinet's co...</td>\n",
       "    </tr>\n",
       "    <tr>\n",
       "      <th>3</th>\n",
       "      <td>Which are the products in which FortAI has bee...</td>\n",
       "      <td>The products in which FortAI has been integra...</td>\n",
       "    </tr>\n",
       "    <tr>\n",
       "      <th>4</th>\n",
       "      <td>Talk about FortiAI for FortiSIEM</td>\n",
       "      <td>FortiAI is a unique AI assistant that leverag...</td>\n",
       "    </tr>\n",
       "    <tr>\n",
       "      <th>5</th>\n",
       "      <td>What is Fortnite</td>\n",
       "      <td>I'm sorry, but the context provided does not ...</td>\n",
       "    </tr>\n",
       "    <tr>\n",
       "      <th>6</th>\n",
       "      <td>Give FortAI's benefits</td>\n",
       "      <td>FortiAI offers several benefits, including:\\n...</td>\n",
       "    </tr>\n",
       "    <tr>\n",
       "      <th>7</th>\n",
       "      <td>What is FortiGuard URL Filtering Service?</td>\n",
       "      <td>FortiGuard URL Filtering Service provides com...</td>\n",
       "    </tr>\n",
       "    <tr>\n",
       "      <th>8</th>\n",
       "      <td>What is not a Use case of Fortiguard URL Filte...</td>\n",
       "      <td>DNS prevention across the fabric is not a use...</td>\n",
       "    </tr>\n",
       "    <tr>\n",
       "      <th>9</th>\n",
       "      <td>Does Fortiguard URL Filtering Service help in ...</td>\n",
       "      <td>Yes, Fortiguard URL Filtering Service helps i...</td>\n",
       "    </tr>\n",
       "  </tbody>\n",
       "</table>\n",
       "</div>"
      ],
      "text/plain": [
       "                                           questions  \\\n",
       "0  Which is the operating system using which Fort...   \n",
       "1  What are the benfits/Features of Fortinet's Se...   \n",
       "2  Which is the competitor of Fortinet which prov...   \n",
       "3  Which are the products in which FortAI has bee...   \n",
       "4                   Talk about FortiAI for FortiSIEM   \n",
       "5                                   What is Fortnite   \n",
       "6                             Give FortAI's benefits   \n",
       "7          What is FortiGuard URL Filtering Service?   \n",
       "8  What is not a Use case of Fortiguard URL Filte...   \n",
       "9  Does Fortiguard URL Filtering Service help in ...   \n",
       "\n",
       "                                           responses  \n",
       "0   FortiOS is the operating system used by Forti...  \n",
       "1   The benefits of Fortinet's Security Operation...  \n",
       "2   I do not have information about Fortinet's co...  \n",
       "3   The products in which FortAI has been integra...  \n",
       "4   FortiAI is a unique AI assistant that leverag...  \n",
       "5   I'm sorry, but the context provided does not ...  \n",
       "6   FortiAI offers several benefits, including:\\n...  \n",
       "7   FortiGuard URL Filtering Service provides com...  \n",
       "8   DNS prevention across the fabric is not a use...  \n",
       "9   Yes, Fortiguard URL Filtering Service helps i...  "
      ]
     },
     "execution_count": 18,
     "metadata": {},
     "output_type": "execute_result"
    }
   ],
   "source": [
    "df"
   ]
  },
  {
   "cell_type": "code",
   "execution_count": null,
   "id": "43e891ca-bb3b-46ad-805c-9161e7053b7a",
   "metadata": {},
   "outputs": [],
   "source": []
  }
 ],
 "metadata": {
  "environment": {
   "kernel": "python3",
   "name": "tf2-cpu.2-11.m119",
   "type": "gcloud",
   "uri": "us-docker.pkg.dev/deeplearning-platform-release/gcr.io/tf2-cpu.2-11:m119"
  },
  "kernelspec": {
   "display_name": "Python 3 (Local)",
   "language": "python",
   "name": "python3"
  },
  "language_info": {
   "codemirror_mode": {
    "name": "ipython",
    "version": 3
   },
   "file_extension": ".py",
   "mimetype": "text/x-python",
   "name": "python",
   "nbconvert_exporter": "python",
   "pygments_lexer": "ipython3",
   "version": "3.10.14"
  }
 },
 "nbformat": 4,
 "nbformat_minor": 5
}
